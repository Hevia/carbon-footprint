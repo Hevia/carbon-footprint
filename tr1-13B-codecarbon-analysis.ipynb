{
 "cells": [
  {
   "cell_type": "markdown",
   "source": [
    "# tr1-13B-codecarbon : An Analysis of the logs"
   ],
   "metadata": {}
  },
  {
   "cell_type": "markdown",
   "source": [
    "# Introduction\n",
    "\n",
    "## Experimental Setup\n",
    "## Data"
   ],
   "metadata": {}
  },
  {
   "cell_type": "markdown",
   "source": [
    "## Current results\n",
    "\n",
    "- 2 durations per GPU as expected\n",
    "- Issue with RAM/CPU power measurements, possibly inverted\n",
    "- Power distribution for GPU looking about right\n",
    "\n",
    "## Next steps\n",
    "- Figure the CPU number issue\n",
    "- Figure the overlap in the data captured\n",
    "- Get an estimation of energy per training step to be able to"
   ],
   "metadata": {}
  },
  {
   "cell_type": "code",
   "execution_count": 64,
   "source": [
    "import pandas as pd\n",
    "import matplotlib\n",
    "import os\n",
    "\n",
    "# Read files into a single DataFrame\n",
    "directory = \"tr1-13B-codecarbon/\"\n",
    "file_paths = [directory+x for x in os.listdir(directory) if x.endswith(\".csv\")]\n",
    "df_list = [pd.read_csv(filename).assign(file=filename.split(\"/\")[1]) for filename in file_paths]\n",
    "df = pd.concat(df_list)\n",
    "df.head()"
   ],
   "outputs": [
    {
     "output_type": "execute_result",
     "data": {
      "text/html": [
       "<div>\n",
       "<style scoped>\n",
       "    .dataframe tbody tr th:only-of-type {\n",
       "        vertical-align: middle;\n",
       "    }\n",
       "\n",
       "    .dataframe tbody tr th {\n",
       "        vertical-align: top;\n",
       "    }\n",
       "\n",
       "    .dataframe thead th {\n",
       "        text-align: right;\n",
       "    }\n",
       "</style>\n",
       "<table border=\"1\" class=\"dataframe\">\n",
       "  <thead>\n",
       "    <tr style=\"text-align: right;\">\n",
       "      <th></th>\n",
       "      <th>timestamp</th>\n",
       "      <th>project_name</th>\n",
       "      <th>run_id</th>\n",
       "      <th>duration</th>\n",
       "      <th>emissions</th>\n",
       "      <th>emissions_rate</th>\n",
       "      <th>cpu_power</th>\n",
       "      <th>gpu_power</th>\n",
       "      <th>ram_power</th>\n",
       "      <th>cpu_energy</th>\n",
       "      <th>gpu_energy</th>\n",
       "      <th>ram_energy</th>\n",
       "      <th>energy_consumed</th>\n",
       "      <th>country_name</th>\n",
       "      <th>country_iso_code</th>\n",
       "      <th>region</th>\n",
       "      <th>on_cloud</th>\n",
       "      <th>cloud_provider</th>\n",
       "      <th>cloud_region</th>\n",
       "      <th>file</th>\n",
       "    </tr>\n",
       "  </thead>\n",
       "  <tbody>\n",
       "    <tr>\n",
       "      <th>0</th>\n",
       "      <td>2021-09-14T19:00:47</td>\n",
       "      <td>codecarbon</td>\n",
       "      <td>46ef5de1-2d85-4241-96bf-f351752b2b5c</td>\n",
       "      <td>21596.155409</td>\n",
       "      <td>18.462082</td>\n",
       "      <td>0.854878</td>\n",
       "      <td>0.132422</td>\n",
       "      <td>311.196</td>\n",
       "      <td>7500.0</td>\n",
       "      <td>0.000854</td>\n",
       "      <td>3.895687</td>\n",
       "      <td>39.586222</td>\n",
       "      <td>43.482763</td>\n",
       "      <td>France</td>\n",
       "      <td>FRA</td>\n",
       "      <td>NaN</td>\n",
       "      <td>N</td>\n",
       "      <td>NaN</td>\n",
       "      <td>NaN</td>\n",
       "      <td>emissions-010.csv</td>\n",
       "    </tr>\n",
       "    <tr>\n",
       "      <th>1</th>\n",
       "      <td>2021-09-14T22:59:44</td>\n",
       "      <td>codecarbon</td>\n",
       "      <td>46ef5de1-2d85-4241-96bf-f351752b2b5c</td>\n",
       "      <td>35933.599740</td>\n",
       "      <td>30.831439</td>\n",
       "      <td>0.858011</td>\n",
       "      <td>0.133624</td>\n",
       "      <td>305.439</td>\n",
       "      <td>7500.0</td>\n",
       "      <td>0.001446</td>\n",
       "      <td>6.486923</td>\n",
       "      <td>66.127284</td>\n",
       "      <td>72.615653</td>\n",
       "      <td>France</td>\n",
       "      <td>FRA</td>\n",
       "      <td>NaN</td>\n",
       "      <td>N</td>\n",
       "      <td>NaN</td>\n",
       "      <td>NaN</td>\n",
       "      <td>emissions-010.csv</td>\n",
       "    </tr>\n",
       "    <tr>\n",
       "      <th>0</th>\n",
       "      <td>2021-09-14T19:00:46</td>\n",
       "      <td>codecarbon</td>\n",
       "      <td>50c1c909-fc4c-4c3f-b23d-06c61453a281</td>\n",
       "      <td>21595.753095</td>\n",
       "      <td>18.755144</td>\n",
       "      <td>0.868464</td>\n",
       "      <td>0.135907</td>\n",
       "      <td>304.846</td>\n",
       "      <td>7500.0</td>\n",
       "      <td>0.000831</td>\n",
       "      <td>3.703121</td>\n",
       "      <td>40.469042</td>\n",
       "      <td>44.172994</td>\n",
       "      <td>France</td>\n",
       "      <td>FRA</td>\n",
       "      <td>NaN</td>\n",
       "      <td>N</td>\n",
       "      <td>NaN</td>\n",
       "      <td>NaN</td>\n",
       "      <td>emissions-004.csv</td>\n",
       "    </tr>\n",
       "    <tr>\n",
       "      <th>1</th>\n",
       "      <td>2021-09-14T22:59:46</td>\n",
       "      <td>codecarbon</td>\n",
       "      <td>50c1c909-fc4c-4c3f-b23d-06c61453a281</td>\n",
       "      <td>35935.239577</td>\n",
       "      <td>31.418423</td>\n",
       "      <td>0.874307</td>\n",
       "      <td>0.136462</td>\n",
       "      <td>279.360</td>\n",
       "      <td>7500.0</td>\n",
       "      <td>0.001383</td>\n",
       "      <td>6.404288</td>\n",
       "      <td>67.592473</td>\n",
       "      <td>73.998144</td>\n",
       "      <td>France</td>\n",
       "      <td>FRA</td>\n",
       "      <td>NaN</td>\n",
       "      <td>N</td>\n",
       "      <td>NaN</td>\n",
       "      <td>NaN</td>\n",
       "      <td>emissions-004.csv</td>\n",
       "    </tr>\n",
       "    <tr>\n",
       "      <th>0</th>\n",
       "      <td>2021-09-14T19:00:46</td>\n",
       "      <td>codecarbon</td>\n",
       "      <td>262b2c8f-6a54-48bc-a2f5-912c95ade6f9</td>\n",
       "      <td>21595.480225</td>\n",
       "      <td>18.836375</td>\n",
       "      <td>0.872237</td>\n",
       "      <td>0.136047</td>\n",
       "      <td>312.573</td>\n",
       "      <td>7500.0</td>\n",
       "      <td>0.000799</td>\n",
       "      <td>3.904777</td>\n",
       "      <td>40.458739</td>\n",
       "      <td>44.364315</td>\n",
       "      <td>France</td>\n",
       "      <td>FRA</td>\n",
       "      <td>NaN</td>\n",
       "      <td>N</td>\n",
       "      <td>NaN</td>\n",
       "      <td>NaN</td>\n",
       "      <td>emissions-038.csv</td>\n",
       "    </tr>\n",
       "  </tbody>\n",
       "</table>\n",
       "</div>"
      ],
      "text/plain": [
       "             timestamp project_name                                run_id  \\\n",
       "0  2021-09-14T19:00:47   codecarbon  46ef5de1-2d85-4241-96bf-f351752b2b5c   \n",
       "1  2021-09-14T22:59:44   codecarbon  46ef5de1-2d85-4241-96bf-f351752b2b5c   \n",
       "0  2021-09-14T19:00:46   codecarbon  50c1c909-fc4c-4c3f-b23d-06c61453a281   \n",
       "1  2021-09-14T22:59:46   codecarbon  50c1c909-fc4c-4c3f-b23d-06c61453a281   \n",
       "0  2021-09-14T19:00:46   codecarbon  262b2c8f-6a54-48bc-a2f5-912c95ade6f9   \n",
       "\n",
       "       duration  emissions  emissions_rate  cpu_power  gpu_power  ram_power  \\\n",
       "0  21596.155409  18.462082        0.854878   0.132422    311.196     7500.0   \n",
       "1  35933.599740  30.831439        0.858011   0.133624    305.439     7500.0   \n",
       "0  21595.753095  18.755144        0.868464   0.135907    304.846     7500.0   \n",
       "1  35935.239577  31.418423        0.874307   0.136462    279.360     7500.0   \n",
       "0  21595.480225  18.836375        0.872237   0.136047    312.573     7500.0   \n",
       "\n",
       "   cpu_energy  gpu_energy  ram_energy  energy_consumed country_name  \\\n",
       "0    0.000854    3.895687   39.586222        43.482763       France   \n",
       "1    0.001446    6.486923   66.127284        72.615653       France   \n",
       "0    0.000831    3.703121   40.469042        44.172994       France   \n",
       "1    0.001383    6.404288   67.592473        73.998144       France   \n",
       "0    0.000799    3.904777   40.458739        44.364315       France   \n",
       "\n",
       "  country_iso_code  region on_cloud  cloud_provider  cloud_region  \\\n",
       "0              FRA     NaN        N             NaN           NaN   \n",
       "1              FRA     NaN        N             NaN           NaN   \n",
       "0              FRA     NaN        N             NaN           NaN   \n",
       "1              FRA     NaN        N             NaN           NaN   \n",
       "0              FRA     NaN        N             NaN           NaN   \n",
       "\n",
       "                file  \n",
       "0  emissions-010.csv  \n",
       "1  emissions-010.csv  \n",
       "0  emissions-004.csv  \n",
       "1  emissions-004.csv  \n",
       "0  emissions-038.csv  "
      ]
     },
     "metadata": {},
     "execution_count": 64
    }
   ],
   "metadata": {}
  },
  {
   "cell_type": "code",
   "execution_count": 71,
   "source": [
    "df['duration'].hist()"
   ],
   "outputs": [
    {
     "output_type": "execute_result",
     "data": {
      "text/plain": [
       "<AxesSubplot:>"
      ]
     },
     "metadata": {},
     "execution_count": 71
    },
    {
     "output_type": "display_data",
     "data": {
      "image/png": "[encoded data removed]",
      "text/plain": [
       "<Figure size 432x288 with 1 Axes>"
      ]
     },
     "metadata": {
      "needs_background": "light"
     }
    }
   ],
   "metadata": {}
  },
  {
   "cell_type": "code",
   "execution_count": 69,
   "source": [
    "df['gpu_power'].hist()"
   ],
   "outputs": [
    {
     "output_type": "execute_result",
     "data": {
      "text/plain": [
       "<AxesSubplot:>"
      ]
     },
     "metadata": {},
     "execution_count": 69
    },
    {
     "output_type": "display_data",
     "data": {
      "image/png": "[encoded data removed]",
      "text/plain": [
       "<Figure size 432x288 with 1 Axes>"
      ]
     },
     "metadata": {
      "needs_background": "light"
     }
    }
   ],
   "metadata": {}
  },
  {
   "cell_type": "code",
   "execution_count": 66,
   "source": [
    "df['cpu_power'].hist()"
   ],
   "outputs": [
    {
     "output_type": "execute_result",
     "data": {
      "text/plain": [
       "<AxesSubplot:>"
      ]
     },
     "metadata": {},
     "execution_count": 66
    },
    {
     "output_type": "display_data",
     "data": {
      "image/png": "[encoded data removed]",
      "text/plain": [
       "<Figure size 432x288 with 1 Axes>"
      ]
     },
     "metadata": {
      "needs_background": "light"
     }
    }
   ],
   "metadata": {}
  },
  {
   "cell_type": "code",
   "execution_count": 70,
   "source": [
    "df['ram_power'].hist()"
   ],
   "outputs": [
    {
     "output_type": "execute_result",
     "data": {
      "text/plain": [
       "<AxesSubplot:>"
      ]
     },
     "metadata": {},
     "execution_count": 70
    },
    {
     "output_type": "display_data",
     "data": {
      "image/png": "[encoded data removed]",
      "text/plain": [
       "<Figure size 432x288 with 1 Axes>"
      ]
     },
     "metadata": {
      "needs_background": "light"
     }
    }
   ],
   "metadata": {}
  }
 ],
 "metadata": {
  "orig_nbformat": 4,
  "language_info": {
   "name": "python",
   "version": "3.9.7",
   "mimetype": "text/x-python",
   "codemirror_mode": {
    "name": "ipython",
    "version": 3
   },
   "pygments_lexer": "ipython3",
   "nbconvert_exporter": "python",
   "file_extension": ".py"
  },
  "kernelspec": {
   "name": "python3",
   "display_name": "Python 3.9.7 64-bit"
  },
  "interpreter": {
   "hash": "aee8b7b246df8f9039afb4144a1f6fd8d2ca17a180786b69acc140d282b71a49"
  }
 },
 "nbformat": 4,
 "nbformat_minor": 2
}